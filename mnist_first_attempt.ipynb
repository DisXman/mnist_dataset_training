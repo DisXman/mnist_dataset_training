{
  "nbformat": 4,
  "nbformat_minor": 0,
  "metadata": {
    "colab": {
      "provenance": []
    },
    "kernelspec": {
      "name": "python3",
      "display_name": "Python 3"
    },
    "language_info": {
      "name": "python"
    }
  },
  "cells": [
    {
      "cell_type": "code",
      "source": [
        "from tensorflow.keras.models import Sequential\n",
        "from tensorflow.keras.layers import Conv2D, MaxPooling2D, Flatten, Dense\n",
        "from tensorflow.keras.datasets import mnist\n",
        "from tensorflow.keras.optimizers import Adam\n",
        "from tensorflow.keras.losses import categorical_crossentropy\n",
        "from tensorflow.keras.utils import to_categorical\n",
        "\n",
        "import matplotlib.pyplot as plt"
      ],
      "metadata": {
        "id": "e0LxF5XbLKav"
      },
      "execution_count": null,
      "outputs": []
    },
    {
      "cell_type": "code",
      "source": [
        "(x_train, y_train), (x_test, y_test) = mnist.load_data() #(x_train) genellikle input datası için kullanılır. (y_train)labellar için kullanılır"
      ],
      "metadata": {
        "id": "OBl4UVSLLjUL",
        "colab": {
          "base_uri": "https://localhost:8080/"
        },
        "outputId": "e2540343-2305-4c02-951a-a6772b18355f"
      },
      "execution_count": null,
      "outputs": [
        {
          "output_type": "stream",
          "name": "stdout",
          "text": [
            "Downloading data from https://storage.googleapis.com/tensorflow/tf-keras-datasets/mnist.npz\n",
            "11490434/11490434 [==============================] - 0s 0us/step\n"
          ]
        }
      ]
    },
    {
      "cell_type": "code",
      "source": [
        " x_train.shape # 60000 tane  28x28 lik image olduğunu gösterir yani input değerlerimizin shape'ini aldık"
      ],
      "metadata": {
        "colab": {
          "base_uri": "https://localhost:8080/"
        },
        "id": "E-fZVKV4M7fK",
        "outputId": "d675bf2d-532e-47a4-b7ed-a3183dbcd66f"
      },
      "execution_count": null,
      "outputs": [
        {
          "output_type": "execute_result",
          "data": {
            "text/plain": [
              "(60000, 28, 28)"
            ]
          },
          "metadata": {},
          "execution_count": 4
        }
      ]
    },
    {
      "cell_type": "code",
      "source": [
        "x_valid = x_train[48000:] #48000 taneyi train'e attık geri kalan 12000 taneyi de valid'de attık\n",
        "y_valid = y_train[48000:]\n",
        "\n",
        "x_train = x_train[:48000]\n",
        "y_train = y_train[:48000]"
      ],
      "metadata": {
        "id": "lMmmCHW3NEL3"
      },
      "execution_count": null,
      "outputs": []
    },
    {
      "cell_type": "code",
      "source": [
        "x_valid.shape #kontrol ettik ve bunuda  12000 image' düştü"
      ],
      "metadata": {
        "colab": {
          "base_uri": "https://localhost:8080/"
        },
        "id": "C1IGFXZOOTXI",
        "outputId": "51f40f3b-f173-4060-ccc3-d50edf2182d3"
      },
      "execution_count": null,
      "outputs": [
        {
          "output_type": "execute_result",
          "data": {
            "text/plain": [
              "(12000, 28, 28)"
            ]
          },
          "metadata": {},
          "execution_count": 6
        }
      ]
    },
    {
      "cell_type": "code",
      "source": [
        "x_train.shape #kontrol ettik ve train deki image'ler 48000'e düştü"
      ],
      "metadata": {
        "colab": {
          "base_uri": "https://localhost:8080/"
        },
        "id": "l5sCmVGOOSEn",
        "outputId": "4c1675b7-5caf-4628-8434-1f62ecd217a7"
      },
      "execution_count": null,
      "outputs": [
        {
          "output_type": "execute_result",
          "data": {
            "text/plain": [
              "(48000, 28, 28)"
            ]
          },
          "metadata": {},
          "execution_count": 7
        }
      ]
    },
    {
      "cell_type": "code",
      "source": [
        "y_valid.shape # buradada sadece tek boyut var. yukarıdakilere karşılık gelen etiket değerleri var"
      ],
      "metadata": {
        "colab": {
          "base_uri": "https://localhost:8080/"
        },
        "id": "7-GYNOAiOctU",
        "outputId": "6d16eef6-b642-4f83-fb11-4abd20ba4b1f"
      },
      "execution_count": null,
      "outputs": [
        {
          "output_type": "execute_result",
          "data": {
            "text/plain": [
              "(12000,)"
            ]
          },
          "metadata": {},
          "execution_count": 8
        }
      ]
    },
    {
      "cell_type": "code",
      "source": [
        "print(\"x_train.shape:\",x_train.shape)\n",
        "print(x_train.shape[0],\"train örnekleri\")\n",
        "print(x_valid.shape[0],\"valid örnekleri\")\n",
        "print(x_test.shape[0],\"test örnekleri\")"
      ],
      "metadata": {
        "colab": {
          "base_uri": "https://localhost:8080/"
        },
        "id": "B6MdJ6B8O_8u",
        "outputId": "bd0da405-729f-4fde-a070-ee47e2a8514b"
      },
      "execution_count": null,
      "outputs": [
        {
          "output_type": "stream",
          "name": "stdout",
          "text": [
            "x_train.shape: (48000, 28, 28)\n",
            "48000 train örnekleri\n",
            "12000 valid örnekleri\n",
            "10000 test örnekleri\n"
          ]
        }
      ]
    },
    {
      "cell_type": "code",
      "source": [
        "index = 900\n",
        "print(\"binary\")\n",
        "plt.imshow(x_test[index], cmap = plt.cm.binary)\n",
        "plt.show()\n",
        "print(y_test[index])"
      ],
      "metadata": {
        "id": "mdq1DqG8QCFO"
      },
      "execution_count": null,
      "outputs": []
    },
    {
      "cell_type": "code",
      "source": [
        "# model eğitim önce 4 boyuta çevirmemiz lazım (x, 28, 28, 1)\n",
        "x_train = x_train.reshape(x_train.shape[0],28,28,1)  # burada sanal bazlı katman ekliyoruz\n",
        "x_valid = x_valid.reshape(x_valid.shape[0],28,28,1)\n",
        "x_test = x_test.reshape(x_test.shape[0],28,28,1)\n",
        "\n",
        "print(x_valid.shape)\n",
        "print(x_test.shape)\n",
        "print(x_train.shape)"
      ],
      "metadata": {
        "id": "NWbhpojwWza5"
      },
      "execution_count": null,
      "outputs": []
    },
    {
      "cell_type": "code",
      "source": [
        "print(y_train.shape) # y_train değişmiyor. sadece input değerlerimiz ile oynuyoruz y'lerin hepsi etiket"
      ],
      "metadata": {
        "colab": {
          "base_uri": "https://localhost:8080/"
        },
        "id": "R-zvl8TkVulE",
        "outputId": "b7e55587-dbe9-42f3-99ff-193caaed83ef"
      },
      "execution_count": null,
      "outputs": [
        {
          "output_type": "stream",
          "name": "stdout",
          "text": [
            "(48000,)\n"
          ]
        }
      ]
    },
    {
      "cell_type": "code",
      "source": [
        "print(y_test.shape)"
      ],
      "metadata": {
        "colab": {
          "base_uri": "https://localhost:8080/"
        },
        "id": "ngmQuUJpYSuM",
        "outputId": "369a89aa-07d5-4f51-e347-864934a0047e"
      },
      "execution_count": null,
      "outputs": [
        {
          "output_type": "stream",
          "name": "stdout",
          "text": [
            "(10000,)\n"
          ]
        }
      ]
    },
    {
      "cell_type": "code",
      "source": [
        "print(x_train.dtype)"
      ],
      "metadata": {
        "colab": {
          "base_uri": "https://localhost:8080/"
        },
        "id": "aZX4mmphvLdr",
        "outputId": "ea28b252-4ec5-4b73-978d-320a655956ec"
      },
      "execution_count": null,
      "outputs": [
        {
          "output_type": "stream",
          "name": "stdout",
          "text": [
            "uint8\n"
          ]
        }
      ]
    },
    {
      "cell_type": "code",
      "source": [
        "x_train[0]"
      ],
      "metadata": {
        "id": "bWwcZDLfvuhT"
      },
      "execution_count": null,
      "outputs": []
    },
    {
      "cell_type": "code",
      "source": [
        "x_train = x_train.astype(\"float32\")\n",
        "x_valid = x_valid.astype(\"float32\")\n",
        "x_test = x_test.astype(\"float32\")"
      ],
      "metadata": {
        "id": "EHVOdO-0v1Xa"
      },
      "execution_count": null,
      "outputs": []
    },
    {
      "cell_type": "code",
      "source": [
        "# piksel değerleri normalizasyonu\n",
        "# (0-255) --> (0-1)\n",
        "x_train /= 255\n",
        "x_valid /= 255\n",
        "x_test /= 255"
      ],
      "metadata": {
        "id": "HedaPUdmY9ZU"
      },
      "execution_count": null,
      "outputs": []
    },
    {
      "cell_type": "code",
      "source": [
        "x_train[0]"
      ],
      "metadata": {
        "id": "Ymc_vI9yZnX6"
      },
      "execution_count": null,
      "outputs": []
    },
    {
      "cell_type": "code",
      "source": [
        "# label düzenleme\n",
        "# 0 = [1000000000]\n",
        "# 5 = [0000010000]\n",
        "\n",
        "y_train[0]"
      ],
      "metadata": {
        "colab": {
          "base_uri": "https://localhost:8080/"
        },
        "id": "WMIJ-sSCZyNy",
        "outputId": "bab9fe22-e9ff-406b-f31c-1e32489ad87e"
      },
      "execution_count": null,
      "outputs": [
        {
          "output_type": "execute_result",
          "data": {
            "text/plain": [
              "5"
            ]
          },
          "metadata": {},
          "execution_count": 19
        }
      ]
    },
    {
      "cell_type": "code",
      "source": [
        "y_train[90]"
      ],
      "metadata": {
        "colab": {
          "base_uri": "https://localhost:8080/"
        },
        "id": "iSwnUTDCbNAT",
        "outputId": "fd6403e4-bcdd-41c7-8e58-97d5644d1203"
      },
      "execution_count": null,
      "outputs": [
        {
          "output_type": "execute_result",
          "data": {
            "text/plain": [
              "6"
            ]
          },
          "metadata": {},
          "execution_count": 20
        }
      ]
    },
    {
      "cell_type": "code",
      "source": [
        "y_train = to_categorical(y_train, 10) # burada 10 tane sınfımız var 0123456789 bunu belirttik ve yukarıdaki formata dönüştürdük to_categorical fonkiyonu ile\n",
        "y_valid = to_categorical(y_valid, 10) # sınıf dediğimiz output'umuz\n",
        "y_test = to_categorical(y_test, 10)  # aslında bi anlamda da burada etiketleme işlemini yaptık"
      ],
      "metadata": {
        "id": "576BI54IbPe4"
      },
      "execution_count": null,
      "outputs": []
    },
    {
      "cell_type": "code",
      "source": [
        "y_train[90]"
      ],
      "metadata": {
        "colab": {
          "base_uri": "https://localhost:8080/"
        },
        "id": "4y6XIdVqcZpf",
        "outputId": "0fa7cd65-a71e-4d68-ac4e-b08bfad2f186"
      },
      "execution_count": null,
      "outputs": [
        {
          "output_type": "execute_result",
          "data": {
            "text/plain": [
              "array([0., 0., 0., 0., 0., 0., 1., 0., 0., 0.], dtype=float32)"
            ]
          },
          "metadata": {},
          "execution_count": 22
        }
      ]
    },
    {
      "cell_type": "code",
      "source": [
        "# sınıflandırma, veriyi hazırlama kısmı bitti. Şimdi modelleme kısmına geçeceğiz\n",
        "my_model = Sequential()\n",
        "my_model.add(Conv2D(filters=32, kernel_size=(3,3), activation='relu', input_shape=(28,28,1)))\n",
        "my_model.add(MaxPooling2D(pool_size=(2,2)))\n",
        "my_model.add(Conv2D(filters=64, kernel_size=(3,3), activation='relu') )\n",
        "my_model.add(MaxPooling2D(pool_size=(2,2)))\n",
        "\n",
        "my_model.add(Flatten()) # tek boyuta indirgeme işlemi\n",
        "my_model.add(Dense(32, activation='relu')) # classification işlemi.\n",
        "my_model.add(Dense(10, activation='softmax')) # classification işlemi"
      ],
      "metadata": {
        "id": "P7R8no1CZ3fU"
      },
      "execution_count": null,
      "outputs": []
    },
    {
      "cell_type": "code",
      "source": [
        "my_model.summary() # modelin özetine bakıyoruz"
      ],
      "metadata": {
        "colab": {
          "base_uri": "https://localhost:8080/"
        },
        "id": "Uh__BTP9Z4xF",
        "outputId": "e40a2df2-55e5-4de6-9c5a-e4d35d3b4311"
      },
      "execution_count": null,
      "outputs": [
        {
          "output_type": "stream",
          "name": "stdout",
          "text": [
            "Model: \"sequential\"\n",
            "_________________________________________________________________\n",
            " Layer (type)                Output Shape              Param #   \n",
            "=================================================================\n",
            " conv2d (Conv2D)             (None, 26, 26, 32)        320       \n",
            "                                                                 \n",
            " max_pooling2d (MaxPooling2  (None, 13, 13, 32)        0         \n",
            " D)                                                              \n",
            "                                                                 \n",
            " conv2d_1 (Conv2D)           (None, 11, 11, 64)        18496     \n",
            "                                                                 \n",
            " max_pooling2d_1 (MaxPoolin  (None, 5, 5, 64)          0         \n",
            " g2D)                                                            \n",
            "                                                                 \n",
            " flatten (Flatten)           (None, 1600)              0         \n",
            "                                                                 \n",
            " dense (Dense)               (None, 32)                51232     \n",
            "                                                                 \n",
            " dense_1 (Dense)             (None, 10)                330       \n",
            "                                                                 \n",
            "=================================================================\n",
            "Total params: 70378 (274.91 KB)\n",
            "Trainable params: 70378 (274.91 KB)\n",
            "Non-trainable params: 0 (0.00 Byte)\n",
            "_________________________________________________________________\n"
          ]
        }
      ]
    },
    {
      "cell_type": "code",
      "source": [
        "from keras.utils import plot_model # modelimizin şablonuna bakıyoruz\n",
        "plot_model(my_model)"
      ],
      "metadata": {
        "colab": {
          "base_uri": "https://localhost:8080/",
          "height": 758
        },
        "id": "fTaxzB9waBNw",
        "outputId": "1f16967d-e02e-496f-b829-5e9ee4a0ad3b"
      },
      "execution_count": null,
      "outputs": [
        {
          "output_type": "execute_result",
          "data": {
            "image/png": "[encoded data removed]",
            "text/plain": [
              "<IPython.core.display.Image object>"
            ]
          },
          "metadata": {},
          "execution_count": 25
        }
      ]
    },
    {
      "cell_type": "code",
      "source": [
        "# modeli compile ediyoruz\n",
        "my_model.compile(loss='categorical_crossentropy', optimizer='adam', metrics=['accuracy'])"
      ],
      "metadata": {
        "id": "L_DMo6NMaWhY"
      },
      "execution_count": null,
      "outputs": []
    },
    {
      "cell_type": "code",
      "source": [
        "# modeli eğitime sokuyoruz\n",
        "# daha önceden hazırlanmış x_train datalarını ve onlara karşılık gelen etiketleri veriyoruz\n",
        "# bu parametre makine öğrenirken verileri kaçar tane çekip öğreneceğini belirtiyor. 128 tane alıyor öğreniyor yeni 128'i alıyor. ram'imize göre değişitirebiliriz\n",
        "# data'yı kaç defa tarayacağı değerdir yani 3 defa baştan sona tarayacaktır. gerçek hayatta 100-1000-10000 gibi sayılardır\n",
        "history = my_model.fit(x_train, y_train,\n",
        "          batch_size=128,\n",
        "          epochs=3,\n",
        "          verbose=1,\n",
        "          validation_data=(x_valid, y_valid)) # val_accuracy değerinin 1'e yakın olması önemli 100 resimden 98'ini doğru tahmin edebiliyor anlamına geliyor.\n",
        "          # accuracy ve val_accuracy değerlerinin birbirlerine yakın olmasıda önemli"
      ],
      "metadata": {
        "colab": {
          "base_uri": "https://localhost:8080/"
        },
        "id": "KYSxmPeLbIF2",
        "outputId": "a47fb832-53ec-4a29-f816-f8a599662a37"
      },
      "execution_count": null,
      "outputs": [
        {
          "output_type": "stream",
          "name": "stdout",
          "text": [
            "Epoch 1/3\n",
            "375/375 [==============================] - 21s 55ms/step - loss: 0.3188 - accuracy: 0.9062 - val_loss: 0.1085 - val_accuracy: 0.9682\n",
            "Epoch 2/3\n",
            "375/375 [==============================] - 20s 53ms/step - loss: 0.0838 - accuracy: 0.9747 - val_loss: 0.0731 - val_accuracy: 0.9792\n",
            "Epoch 3/3\n",
            "375/375 [==============================] - 20s 53ms/step - loss: 0.0598 - accuracy: 0.9813 - val_loss: 0.0661 - val_accuracy: 0.9805\n"
          ]
        }
      ]
    },
    {
      "cell_type": "code",
      "source": [
        "score = my_model.evaluate(x_test, y_test, verbose=1) # verbose parametresi debug modda asşağıdaki ve yukarıdaki görüntüyü görmek için yazarız\n",
        "print(\"test loss:\", score[0])\n",
        "print(\"test accuracy:\", score[1])\n",
        "# modeli eğittik ve bir kere eğitiriz her seferinde eğitemeyiz.  modeli bir sefer gerçek(doğru) data ile eğitiriz ve kaydederiz."
      ],
      "metadata": {
        "colab": {
          "base_uri": "https://localhost:8080/"
        },
        "id": "eakAWm4PsR7_",
        "outputId": "2c5af7c1-5a43-4764-8be9-5e80200777b3"
      },
      "execution_count": null,
      "outputs": [
        {
          "output_type": "stream",
          "name": "stdout",
          "text": [
            "313/313 [==============================] - 2s 8ms/step - loss: 0.0483 - accuracy: 0.9850\n",
            "test loss: 0.04826787859201431\n",
            "test accuracy: 0.9850000143051147\n"
          ]
        }
      ]
    },
    {
      "cell_type": "code",
      "source": [
        "my_model.save(\"my_first_mnist_model_.h5\")"
      ],
      "metadata": {
        "colab": {
          "base_uri": "https://localhost:8080/"
        },
        "id": "porhtYOj6ZUh",
        "outputId": "8b81b115-8cf9-4b89-bd2a-428656365f2d"
      },
      "execution_count": null,
      "outputs": [
        {
          "output_type": "stream",
          "name": "stderr",
          "text": [
            "/usr/local/lib/python3.10/dist-packages/keras/src/engine/training.py:3103: UserWarning: You are saving your model as an HDF5 file via `model.save()`. This file format is considered legacy. We recommend using instead the native Keras format, e.g. `model.save('my_model.keras')`.\n",
            "  saving_api.save_model(\n"
          ]
        }
      ]
    },
    {
      "cell_type": "code",
      "source": [
        "#download images\n",
        "!wget -O test_digit_0.png https://i.stack.imgur.com/FK0FB.png"
      ],
      "metadata": {
        "id": "bxe7u62BQfXo",
        "colab": {
          "base_uri": "https://localhost:8080/"
        },
        "outputId": "7221352b-387f-4bb0-bde1-2b963a464ab2"
      },
      "execution_count": null,
      "outputs": [
        {
          "output_type": "stream",
          "name": "stdout",
          "text": [
            "--2023-12-24 11:09:10--  https://3qeqpr26caki16dnhd19sv6by6v-wpengine.netdna-ssl.com/wp-content/uploads/2019/02/sample_image.png\n",
            "Resolving 3qeqpr26caki16dnhd19sv6by6v-wpengine.netdna-ssl.com (3qeqpr26caki16dnhd19sv6by6v-wpengine.netdna-ssl.com)... failed: Name or service not known.\n",
            "wget: unable to resolve host address ‘3qeqpr26caki16dnhd19sv6by6v-wpengine.netdna-ssl.com’\n",
            "--2023-12-24 11:09:10--  https://i.stack.imgur.com/FK0FB.png\n",
            "Resolving i.stack.imgur.com (i.stack.imgur.com)... 146.75.92.193\n",
            "Connecting to i.stack.imgur.com (i.stack.imgur.com)|146.75.92.193|:443... connected.\n",
            "HTTP request sent, awaiting response... 200 OK\n",
            "Length: 4934 (4.8K) [image/png]\n",
            "Saving to: ‘test_digit_0.png’\n",
            "\n",
            "test_digit_0.png    100%[===================>]   4.82K  --.-KB/s    in 0s      \n",
            "\n",
            "2023-12-24 11:09:10 (54.9 MB/s) - ‘test_digit_0.png’ saved [4934/4934]\n",
            "\n"
          ]
        }
      ]
    },
    {
      "cell_type": "code",
      "source": [
        "plt.imshow(plt.imread(\"test_digit_0.png\"), cmap = plt.cm.binary)\n",
        "plt.show()"
      ],
      "metadata": {
        "id": "MtcwSQoJe6ZW"
      },
      "execution_count": null,
      "outputs": []
    },
    {
      "cell_type": "code",
      "source": [
        "plt.imshow(plt.imread(\"test_digit_7.jpg\"), cmap = plt.cm.binary)\n",
        "plt.show()"
      ],
      "metadata": {
        "id": "Hum28c9MgVV6"
      },
      "execution_count": null,
      "outputs": []
    },
    {
      "cell_type": "code",
      "source": [
        "from tensorflow.keras.models import load_model\n",
        "from tensorflow.keras.preprocessing.image import load_img, img_to_array\n",
        "import numpy as np"
      ],
      "metadata": {
        "id": "EcPTjz6Jh8s1"
      },
      "execution_count": null,
      "outputs": []
    },
    {
      "cell_type": "code",
      "source": [
        "my_model = load_model(\"my_first_mnist_model_.h5\")"
      ],
      "metadata": {
        "id": "l95T4nSxibty"
      },
      "execution_count": null,
      "outputs": []
    },
    {
      "cell_type": "code",
      "source": [
        "print(my_model.output)"
      ],
      "metadata": {
        "colab": {
          "base_uri": "https://localhost:8080/"
        },
        "id": "iEddufZAolnN",
        "outputId": "2b37efb2-9e37-4860-c9e3-f9b017f12ca9"
      },
      "execution_count": null,
      "outputs": [
        {
          "output_type": "stream",
          "name": "stdout",
          "text": [
            "KerasTensor(type_spec=TensorSpec(shape=(None, 10), dtype=tf.float32, name=None), name='dense_1/Softmax:0', description=\"created by layer 'dense_1'\")\n"
          ]
        }
      ]
    },
    {
      "cell_type": "code",
      "source": [
        "image = load_img(\"testdigit5.png\", target_size = (28,28), color_mode=\"grayscale\") # resimin boyutunu güncelledik ve grayscale yaptık\n",
        "image = img_to_array(image) / 255 #  önce fotoğrafı array'e dönüştürüyor sonra renkleri 0-255 ---> 0-1 dönüştürüyor.\n",
        "image = np.expand_dims(image, axis=0) # bir tane daha boyut atadık 4 boyutlu olabilmesi için. axis=0'ın sebebi shape dizisinin ilk elemanına 1.elemanına ata demek\n",
        "print(\"shape: \", image.shape)"
      ],
      "metadata": {
        "colab": {
          "base_uri": "https://localhost:8080/"
        },
        "id": "9sRSYeMeoqob",
        "outputId": "f46d0942-0c2e-4d7f-cab3-3572742f8fb1"
      },
      "execution_count": null,
      "outputs": [
        {
          "output_type": "stream",
          "name": "stdout",
          "text": [
            "shape:  (1, 28, 28, 1)\n"
          ]
        }
      ]
    },
    {
      "cell_type": "code",
      "source": [
        "preds = my_model.predict(image)"
      ],
      "metadata": {
        "colab": {
          "base_uri": "https://localhost:8080/"
        },
        "id": "bH4oWHZZqrC0",
        "outputId": "0f92d697-91c2-468c-dd0e-2ab73ba1048a"
      },
      "execution_count": null,
      "outputs": [
        {
          "output_type": "stream",
          "name": "stdout",
          "text": [
            "1/1 [==============================] - 0s 20ms/step\n"
          ]
        }
      ]
    },
    {
      "cell_type": "code",
      "source": [
        "preds # tahmin sonuçlarının array şeklinde sunulması. hangisi daha büyükse array'de tahminini sonucu odur"
      ],
      "metadata": {
        "colab": {
          "base_uri": "https://localhost:8080/"
        },
        "id": "WAT8ykcgrZUy",
        "outputId": "318fde85-d3a2-42d7-8d9c-628d3a90e64c"
      },
      "execution_count": null,
      "outputs": [
        {
          "output_type": "execute_result",
          "data": {
            "text/plain": [
              "array([[6.4018673e-06, 1.1209831e-07, 1.3480188e-04, 3.7567979e-01,\n",
              "        1.7463517e-08, 5.2976435e-01, 4.7917718e-05, 9.2699461e-02,\n",
              "        4.8101682e-04, 1.1861727e-03]], dtype=float32)"
            ]
          },
          "metadata": {},
          "execution_count": 88
        }
      ]
    },
    {
      "cell_type": "code",
      "source": [
        "preds.argmax() # yukarıdaki array'de hangi sayının büyük olduğunu bu fonksiyonu kullanarak indeksini görebiliriz"
      ],
      "metadata": {
        "colab": {
          "base_uri": "https://localhost:8080/"
        },
        "id": "JQOpyw00rcLC",
        "outputId": "4b0515ff-44a1-4e8b-90d1-6fca1f411f4b"
      },
      "execution_count": null,
      "outputs": [
        {
          "output_type": "execute_result",
          "data": {
            "text/plain": [
              "5"
            ]
          },
          "metadata": {},
          "execution_count": 89
        }
      ]
    },
    {
      "cell_type": "code",
      "source": [
        "# burada projemiz bitiyor"
      ],
      "metadata": {
        "id": "uUAReHeYrmD6"
      },
      "execution_count": null,
      "outputs": []
    },
    {
      "cell_type": "code",
      "source": [
        "print(history.history.keys())\n",
        "\n",
        "plt.plot(history.history[\"accuracy\"])\n",
        "plt.plot(history.history[\"val_accuracy\"])\n",
        "plt.title(\"model accuracy\")\n",
        "plt.ylabel(\"accuracy\")\n",
        "plt.xlabel(\"epoch\")\n",
        "plt.legend([\"train\",\"test\"], loc = \"upper left\")\n",
        "plt.show()\n",
        "\n",
        "plt.plot(history.history[\"loss\"])\n",
        "plt.plot(history.history[\"val_loss\"])\n",
        "plt.title(\"model loss\")\n",
        "plt.ylabel(\"loss\")\n",
        "plt.xlabel(\"epoch\")\n",
        "plt.legend([\"train\",\"test\"], loc = \"upper left\")\n",
        "plt.show()"
      ],
      "metadata": {
        "colab": {
          "base_uri": "https://localhost:8080/",
          "height": 944
        },
        "id": "4QOPLh2btXhj",
        "outputId": "73ebd704-9d1a-418e-b7cc-74f5cf43f6d0"
      },
      "execution_count": null,
      "outputs": [
        {
          "output_type": "stream",
          "name": "stdout",
          "text": [
            "dict_keys(['loss', 'accuracy', 'val_loss', 'val_accuracy'])\n"
          ]
        },
        {
          "output_type": "display_data",
          "data": {
            "text/plain": [
              "<Figure size 640x480 with 1 Axes>"
            ],
            "image/png": "[encoded data removed]"
          },
          "metadata": {}
        },
        {
          "output_type": "display_data",
          "data": {
            "text/plain": [
              "<Figure size 640x480 with 1 Axes>"
            ],
            "image/png": "[encoded data removed]"
          },
          "metadata": {}
        }
      ]
    },
    {
      "cell_type": "code",
      "source": [
        "# Bonus : https://scs.ryerson.ca/~aharley/vis/conv/\n",
        "# site yasaklanmış. Burada simüle edilmiş şeklini görüyorduk\n",
        "# cnn katmanının, max-pooling katmanının aşamalarını görüyorduk yazıyı kendimiz yazarak.3"
      ],
      "metadata": {
        "id": "GZuZ7nPuuJmF"
      },
      "execution_count": null,
      "outputs": []
    }
  ]
}